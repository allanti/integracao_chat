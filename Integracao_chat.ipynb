{
  "nbformat": 4,
  "nbformat_minor": 0,
  "metadata": {
    "colab": {
      "provenance": [],
      "include_colab_link": true
    },
    "kernelspec": {
      "name": "python3",
      "display_name": "Python 3"
    },
    "language_info": {
      "name": "python"
    }
  },
  "cells": [
    {
      "cell_type": "markdown",
      "metadata": {
        "id": "view-in-github",
        "colab_type": "text"
      },
      "source": [
        "<a href=\"https://colab.research.google.com/github/allanti/integracao_chat/blob/main/Integracao_chat.ipynb\" target=\"_parent\"><img src=\"https://colab.research.google.com/assets/colab-badge.svg\" alt=\"Open In Colab\"/></a>"
      ]
    },
    {
      "cell_type": "code",
      "execution_count": 1,
      "metadata": {
        "id": "sUBME1Jd-wj-"
      },
      "outputs": [],
      "source": [
        "pip install -q -U google-generativeai"
      ]
    },
    {
      "cell_type": "code",
      "source": [
        "import google.generativeai as genai\n",
        "from google.colab import userdata\n",
        "from IPython.display import display, Markdown\n",
        "\n",
        "# Configuração inicial da API e do modelo\n",
        "api_key = userdata.get('SECRET_KEY')\n",
        "genai.configure(api_key=api_key)\n",
        "\n",
        "generation_config = {\n",
        "    \"candidate_count\": 1,\n",
        "    \"temperature\": 0.3\n",
        "}\n",
        "\n",
        "safety_settings = {\n",
        "    \"HARASSMENT\": \"BLOCK_NONE\",\n",
        "    \"HATE\": \"BLOCK_NONE\",\n",
        "    \"SEXUAL\": \"BLOCK_NONE\",\n",
        "    \"DANGEROUS\": \"BLOCK_NONE\",\n",
        "}\n",
        "\n",
        "model = genai.GenerativeModel(model_name=\"gemini-1.0-pro\", generation_config=generation_config, safety_settings=safety_settings)\n",
        "chat = model.start_chat()\n",
        "\n",
        "# Mensagem inicial e descrição\n",
        "display(Markdown(\"**Olá! Bem-vindo ao seu assistente de integração. Estou aqui para ajudar você a se adaptar ao novo país.**\"))\n",
        "display(Markdown(\"Por favor, responda algumas perguntas para que possamos personalizar as informações para você.\"))\n",
        "\n",
        "# Perguntas para o usuário\n",
        "questions = [\n",
        "    \"Qual o seu nome?\",\n",
        "    \"De qual país você veio?\",\n",
        "    \"Qual é o seu país de destino?\",\n",
        "    \"Você fala o idioma do país de destino? Se não, você gostaria de aprender?\",\n",
        "    \"Você precisa de ajuda com documentação ou direitos legais?\",\n",
        "    \"Você está procurando por emprego ou cursos de capacitação?\",\n",
        "    \"Para começar, digite: vamos começar\"\n",
        "]\n",
        "\n",
        "response = \"\"\n",
        "count = 0\n",
        "responses = []\n",
        "\n",
        "# Loop de perguntas\n",
        "while response.lower() != \"vamos começar\":\n",
        "    if count >= len(questions):\n",
        "        display(Markdown(\"**Para começar, digite: vamos começar**\"))\n",
        "        response = input(\"Resposta: \")\n",
        "    else:\n",
        "        display(Markdown(f\"**{questions[count]}**\"))\n",
        "        response = input(\"Resposta: \")\n",
        "        print(\"\\n\")\n",
        "        responses.append(response)\n",
        "        count += 1\n",
        "\n",
        "# Configuração de geração de texto para o modelo\n",
        "integration_prompt = f\"Crie um guia de integração para {responses[0]}, originário de {responses[1]}, agora morando em {responses[2]}. {'Precisa aprender o idioma local.' if responses[3] == 'não' else 'Fala o idioma local.'} {'Necessita de assistência com documentação e direitos legais.' if responses[4] == 'sim' else 'Não necessita de assistência legal imediata.'} {'Procura emprego ou cursos de capacitação.' if responses[5] == 'sim' else 'Não está procurando emprego ou cursos no momento.'}\"\n",
        "\n",
        "display(Markdown(f\"**{responses[0]}, aqui está seu guia de integração personalizado. Você pode solicitar mais informações sobre qualquer tópico a qualquer momento. Para finalizar, digite 'fim da integração'.**\\n\"))\n",
        "\n",
        "# Geração do guia de integração\n",
        "integration_response = chat.send_message(integration_prompt)\n",
        "display(Markdown(integration_response.text.replace(\"*\", \"\")))\n",
        "\n",
        "# Interação contínua com o modelo\n",
        "while True:\n",
        "    prompt = input(\"Pergunta: \")\n",
        "    if prompt.lower() == \"fim da integração\":\n",
        "        break\n",
        "    response = chat.send_message(prompt)\n",
        "    display(Markdown(f\"**Resposta:** {response.text.replace('*', '')}\\n\"))"
      ],
      "metadata": {
        "colab": {
          "base_uri": "https://localhost:8080/",
          "height": 1000
        },
        "id": "yfawmQfOH2Gr",
        "outputId": "ecec430a-f7ef-4971-e49e-48128fa4fc2a"
      },
      "execution_count": 4,
      "outputs": [
        {
          "output_type": "display_data",
          "data": {
            "text/plain": [
              "<IPython.core.display.Markdown object>"
            ],
            "text/markdown": "**Olá! Bem-vindo ao seu assistente de integração. Estou aqui para ajudar você a se adaptar ao novo país.**"
          },
          "metadata": {}
        },
        {
          "output_type": "display_data",
          "data": {
            "text/plain": [
              "<IPython.core.display.Markdown object>"
            ],
            "text/markdown": "Por favor, responda algumas perguntas para que possamos personalizar as informações para você."
          },
          "metadata": {}
        },
        {
          "output_type": "display_data",
          "data": {
            "text/plain": [
              "<IPython.core.display.Markdown object>"
            ],
            "text/markdown": "**Qual o seu nome?**"
          },
          "metadata": {}
        },
        {
          "output_type": "stream",
          "name": "stdout",
          "text": [
            "Resposta: Allan\n",
            "\n",
            "\n"
          ]
        },
        {
          "output_type": "display_data",
          "data": {
            "text/plain": [
              "<IPython.core.display.Markdown object>"
            ],
            "text/markdown": "**De qual país você veio?**"
          },
          "metadata": {}
        },
        {
          "output_type": "stream",
          "name": "stdout",
          "text": [
            "Resposta: ucrania\n",
            "\n",
            "\n"
          ]
        },
        {
          "output_type": "display_data",
          "data": {
            "text/plain": [
              "<IPython.core.display.Markdown object>"
            ],
            "text/markdown": "**Qual é o seu país de destino?**"
          },
          "metadata": {}
        },
        {
          "output_type": "stream",
          "name": "stdout",
          "text": [
            "Resposta: brasil\n",
            "\n",
            "\n"
          ]
        },
        {
          "output_type": "display_data",
          "data": {
            "text/plain": [
              "<IPython.core.display.Markdown object>"
            ],
            "text/markdown": "**Você fala o idioma do país de destino? Se não, você gostaria de aprender?**"
          },
          "metadata": {}
        },
        {
          "output_type": "stream",
          "name": "stdout",
          "text": [
            "Resposta: gostaria de aprender\n",
            "\n",
            "\n"
          ]
        },
        {
          "output_type": "display_data",
          "data": {
            "text/plain": [
              "<IPython.core.display.Markdown object>"
            ],
            "text/markdown": "**Você precisa de ajuda com documentação ou direitos legais?**"
          },
          "metadata": {}
        },
        {
          "output_type": "stream",
          "name": "stdout",
          "text": [
            "Resposta: sim\n",
            "\n",
            "\n"
          ]
        },
        {
          "output_type": "display_data",
          "data": {
            "text/plain": [
              "<IPython.core.display.Markdown object>"
            ],
            "text/markdown": "**Você está procurando por emprego ou cursos de capacitação?**"
          },
          "metadata": {}
        },
        {
          "output_type": "stream",
          "name": "stdout",
          "text": [
            "Resposta: sim\n",
            "\n",
            "\n"
          ]
        },
        {
          "output_type": "display_data",
          "data": {
            "text/plain": [
              "<IPython.core.display.Markdown object>"
            ],
            "text/markdown": "**Para começar, digite: vamos começar**"
          },
          "metadata": {}
        },
        {
          "output_type": "stream",
          "name": "stdout",
          "text": [
            "Resposta: vamos começar\n",
            "\n",
            "\n"
          ]
        },
        {
          "output_type": "display_data",
          "data": {
            "text/plain": [
              "<IPython.core.display.Markdown object>"
            ],
            "text/markdown": "**Allan, aqui está seu guia de integração personalizado. Você pode solicitar mais informações sobre qualquer tópico a qualquer momento. Para finalizar, digite 'fim da integração'.**\n"
          },
          "metadata": {}
        },
        {
          "output_type": "display_data",
          "data": {
            "text/plain": [
              "<IPython.core.display.Markdown object>"
            ],
            "text/markdown": "Guia de Integração para Allan\n\nIntrodução\n\nBem-vindo ao Brasil, Allan! Este guia foi elaborado para ajudá-lo a se integrar à nossa comunidade e a acessar os recursos e o apoio necessários.\n\nDocumentação e Direitos Legais\n\n Registro Nacional de Estrangeiros (RNE): Registre-se no RNE para obter um documento de identidade brasileiro.\n Carteira de Trabalho e Previdência Social (CTPS): Obtenha uma CTPS para trabalhar legalmente no Brasil.\n Direitos Legais: Conheça seus direitos como estrangeiro no Brasil, incluindo acesso à saúde, educação e trabalho.\n\nAssistência Jurídica\n\n Defensoria Pública da União (DPU): Oferece assistência jurídica gratuita a estrangeiros em situação de vulnerabilidade.\n Organizações Não Governamentais (ONGs): Existem várias ONGs que fornecem apoio jurídico e social a imigrantes.\n\nEmprego e Capacitação\n\n Cadastro Único (CadÚnico): Cadastre-se no CadÚnico para ter acesso a programas sociais e oportunidades de emprego.\n Serviço Nacional de Emprego (Sine): Oferece serviços de intermediação de mão de obra e cursos de capacitação.\n Cursos de Capacitação: Explore opções de cursos de capacitação em instituições públicas e privadas para aprimorar suas habilidades e aumentar suas chances de emprego.\n\nCultura e Comunidade\n\n Aulas de Português: Aprimore suas habilidades no idioma local para facilitar a integração.\n Eventos Comunitários: Participe de eventos comunitários para conhecer outras pessoas e aprender sobre a cultura brasileira.\n Associações de Ucranianos: Conecte-se com outros ucranianos no Brasil para obter apoio e compartilhar experiências.\n\nSaúde\n\n Sistema Único de Saúde (SUS): Tenha acesso a serviços de saúde gratuitos ou subsidiados pelo governo.\n Vacinação: Certifique-se de estar vacinado contra doenças comuns no Brasil.\n\nRecursos Adicionais\n\n Ministério da Justiça e Segurança Pública: https://www.gov.br/justica\n Polícia Federal: https://www.gov.br/pf\n Ministério do Trabalho e Previdência: https://www.gov.br/trabalho\n\nConclusão\n\nEntendemos que se integrar a um novo país pode ser desafiador. Este guia foi projetado para fornecer as informações e os recursos necessários para ajudá-lo a se estabelecer com sucesso no Brasil. Não hesite em procurar ajuda se precisar. Bem-vindo à nossa comunidade!"
          },
          "metadata": {}
        },
        {
          "name": "stdout",
          "output_type": "stream",
          "text": [
            "Pergunta: fim da integração\n"
          ]
        }
      ]
    }
  ]
}